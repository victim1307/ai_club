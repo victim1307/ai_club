{
  "nbformat": 4,
  "nbformat_minor": 0,
  "metadata": {
    "colab": {
      "name": "First.ipynb",
      "provenance": [],
      "collapsed_sections": [],
      "authorship_tag": "ABX9TyPQw9YYyDVAj2FPg+MiHhaA",
      "include_colab_link": true
    },
    "kernelspec": {
      "name": "python3",
      "display_name": "Python 3"
    },
    "language_info": {
      "name": "python"
    }
  },
  "cells": [
    {
      "cell_type": "markdown",
      "metadata": {
        "id": "view-in-github",
        "colab_type": "text"
      },
      "source": [
        "<a href=\"https://colab.research.google.com/github/victim1307/ai_club/blob/main/numpy/First.ipynb\" target=\"_parent\"><img src=\"https://colab.research.google.com/assets/colab-badge.svg\" alt=\"Open In Colab\"/></a>"
      ]
    },
    {
      "cell_type": "markdown",
      "metadata": {
        "id": "uxmHguYK3DPc"
      },
      "source": [
        "# **Numpy Pratice**"
      ]
    },
    {
      "cell_type": "code",
      "metadata": {
        "id": "8QtS1TMPiSEn"
      },
      "source": [
        "import numpy as np #importing numpy"
      ],
      "execution_count": 2,
      "outputs": []
    },
    {
      "cell_type": "code",
      "metadata": {
        "colab": {
          "base_uri": "https://localhost:8080/"
        },
        "id": "fi_IQr9C3_af",
        "outputId": "4d1c1ad6-ffbd-49ff-c9bb-0626b8910c82"
      },
      "source": [
        "list_1=[2,3,4,5]\n",
        "print(list_1) #list"
      ],
      "execution_count": null,
      "outputs": [
        {
          "output_type": "stream",
          "text": [
            "[2, 3, 4, 5]\n"
          ],
          "name": "stdout"
        }
      ]
    },
    {
      "cell_type": "code",
      "metadata": {
        "colab": {
          "base_uri": "https://localhost:8080/"
        },
        "id": "6ItTbGAC4A5F",
        "outputId": "3e74deaf-ffc8-47b3-dc70-a9ff552b4fcd"
      },
      "source": [
        "ary=np.array(list_1)\n",
        "print(ary) # converting list to array"
      ],
      "execution_count": null,
      "outputs": [
        {
          "output_type": "stream",
          "text": [
            "[2 3 4 5]\n"
          ],
          "name": "stdout"
        }
      ]
    },
    {
      "cell_type": "code",
      "metadata": {
        "colab": {
          "base_uri": "https://localhost:8080/"
        },
        "id": "kVrxFTQl4QER",
        "outputId": "34e858f0-e28c-469e-9896-6f4c81135f50"
      },
      "source": [
        "x = np.array([1,2,6,9])\n",
        "print(x) # defining array"
      ],
      "execution_count": null,
      "outputs": [
        {
          "output_type": "stream",
          "text": [
            "[1 2 6 9]\n"
          ],
          "name": "stdout"
        }
      ]
    },
    {
      "cell_type": "code",
      "metadata": {
        "colab": {
          "base_uri": "https://localhost:8080/"
        },
        "id": "BqxiAlde49b-",
        "outputId": "e6326879-cdb3-4c0c-8438-3e598c16ec56"
      },
      "source": [
        "y=x+7\n",
        "print(y) # adding int's"
      ],
      "execution_count": null,
      "outputs": [
        {
          "output_type": "stream",
          "text": [
            "[ 8  9 13 16]\n"
          ],
          "name": "stdout"
        }
      ]
    },
    {
      "cell_type": "code",
      "metadata": {
        "colab": {
          "base_uri": "https://localhost:8080/"
        },
        "id": "NnFihK2t5Jt-",
        "outputId": "6eaf30da-b72e-49da-b6c4-161fd57e1261"
      },
      "source": [
        "print(x.shape) # shape of an array \n",
        "print(x.dtype) # dtype just defines how bytes in memory will be interpreted by a scalar"
      ],
      "execution_count": null,
      "outputs": [
        {
          "output_type": "stream",
          "text": [
            "(4,)\n",
            "int64\n"
          ],
          "name": "stdout"
        }
      ]
    },
    {
      "cell_type": "code",
      "metadata": {
        "colab": {
          "base_uri": "https://localhost:8080/"
        },
        "id": "mcSIQZJ76IGR",
        "outputId": "7e4d651c-fd15-417a-9921-3a84172ddeae"
      },
      "source": [
        "z = np.array([(1,2,3,4),\n",
        "              (4,5,6,8)])\n",
        "print(z)"
      ],
      "execution_count": null,
      "outputs": [
        {
          "output_type": "stream",
          "text": [
            "[[1 2 3 4]\n",
            " [4 5 6 8]]\n"
          ],
          "name": "stdout"
        }
      ]
    },
    {
      "cell_type": "code",
      "metadata": {
        "colab": {
          "base_uri": "https://localhost:8080/"
        },
        "id": "eNmtWckO7oLh",
        "outputId": "e42694a6-7e01-41fd-b1c2-488627b9a2fc"
      },
      "source": [
        "a=np.array([\n",
        "    ((1,2,3,4),\n",
        "    (5,6,7,8)),\n",
        "    ((9,10,11,12),\n",
        "     (13,14,15,16))\n",
        "])\n",
        "print(a.shape) \n",
        "#First 2 is dimension of the array\n",
        "#Second 2 is no.of 2D arrays(it means 2X2)\n",
        "#last elemrnt is to tell the  number of elements"
      ],
      "execution_count": null,
      "outputs": [
        {
          "output_type": "stream",
          "text": [
            "(2, 2, 4)\n"
          ],
          "name": "stdout"
        }
      ]
    },
    {
      "cell_type": "code",
      "metadata": {
        "colab": {
          "base_uri": "https://localhost:8080/"
        },
        "id": "UrwhT1DlBKU_",
        "outputId": "30c5a1cc-4429-4852-ea49-eb5a46b9e575"
      },
      "source": [
        "x=np.zeros((2,2),dtype=np.int16)\n",
        "print(x)\n",
        "#numpy.zeros(shape, dtype=float, order='C') defining"
      ],
      "execution_count": null,
      "outputs": [
        {
          "output_type": "stream",
          "text": [
            "[[0 0]\n",
            " [0 0]]\n"
          ],
          "name": "stdout"
        }
      ]
    },
    {
      "cell_type": "code",
      "metadata": {
        "colab": {
          "base_uri": "https://localhost:8080/"
        },
        "id": "_cZsP66OCrSQ",
        "outputId": "8470cf76-9db0-4b70-cc7f-899942452abd"
      },
      "source": [
        "np.ones((2,3,4),dtype=np.int16)\n",
        "#inner (2,3,4) 2X3 array with 4 elements"
      ],
      "execution_count": null,
      "outputs": [
        {
          "output_type": "execute_result",
          "data": {
            "text/plain": [
              "array([[[1, 1, 1, 1],\n",
              "        [1, 1, 1, 1],\n",
              "        [1, 1, 1, 1]],\n",
              "\n",
              "       [[1, 1, 1, 1],\n",
              "        [1, 1, 1, 1],\n",
              "        [1, 1, 1, 1]]], dtype=int16)"
            ]
          },
          "metadata": {
            "tags": []
          },
          "execution_count": 55
        }
      ]
    },
    {
      "cell_type": "code",
      "metadata": {
        "colab": {
          "base_uri": "https://localhost:8080/"
        },
        "id": "WzdqNXLsDZWE",
        "outputId": "c83265fe-072d-4cfd-9f6d-e85db25931a3"
      },
      "source": [
        "d=np.array([(1,2,3,4),(5,6,7,8)])\n",
        "print(d)\n",
        "d.reshape(4,2)\n",
        "# numpy.reshape(a, newShape, order='C') Here,\n",
        "# a: Array that you want to reshape\n",
        "# newShape: The new desires shape"
      ],
      "execution_count": null,
      "outputs": [
        {
          "output_type": "stream",
          "text": [
            "[[1 2 3 4]\n",
            " [5 6 7 8]]\n"
          ],
          "name": "stdout"
        },
        {
          "output_type": "execute_result",
          "data": {
            "text/plain": [
              "array([[1, 2],\n",
              "       [3, 4],\n",
              "       [5, 6],\n",
              "       [7, 8]])"
            ]
          },
          "metadata": {
            "tags": []
          },
          "execution_count": 56
        }
      ]
    },
    {
      "cell_type": "code",
      "metadata": {
        "colab": {
          "base_uri": "https://localhost:8080/"
        },
        "id": "4Qn_PwSbD-b2",
        "outputId": "00d2ea42-abd1-40de-d799-2185bf39ce60"
      },
      "source": [
        "d.flatten()\n",
        "#Converts into 1D array"
      ],
      "execution_count": null,
      "outputs": [
        {
          "output_type": "execute_result",
          "data": {
            "text/plain": [
              "array([1, 2, 3, 4, 5, 6, 7, 8])"
            ]
          },
          "metadata": {
            "tags": []
          },
          "execution_count": 58
        }
      ]
    },
    {
      "cell_type": "code",
      "metadata": {
        "colab": {
          "base_uri": "https://localhost:8080/"
        },
        "id": "fPkfQT6NGMH5",
        "outputId": "9936dea3-9ddf-4f7f-902c-fb933df1f8fc"
      },
      "source": [
        "x1=np.array([0,9,8,7])\n",
        "x2=np.array([6,5,4,3])\n",
        "print(\"Horizontal Append\",np.hstack((x1,x2))) # appends 2 arrays horizantly\n",
        "print(\"Vertical Append\",np.vstack((x1,x2))) # appends 2 arrays vertically"
      ],
      "execution_count": null,
      "outputs": [
        {
          "output_type": "stream",
          "text": [
            "Horizontal Append [0 9 8 7 6 5 4 3]\n",
            "Vertical Append [[0 9 8 7]\n",
            " [6 5 4 3]]\n"
          ],
          "name": "stdout"
        }
      ]
    },
    {
      "cell_type": "code",
      "metadata": {
        "colab": {
          "base_uri": "https://localhost:8080/"
        },
        "id": "si4WacZRHeyE",
        "outputId": "ea42d274-1e73-4f5f-db92-15b7b2877c08"
      },
      "source": [
        "ran_arr=np.random.normal(8,0.0000008,7)\n",
        "print(ran_arr)\n",
        "# to generate random array 8 is the base value\n",
        "# 0.0000008 is the range(Valuse will e in the range of 8-0.0000008 to 8+0.0000006)\n",
        "# 7 is the number of elements in the list"
      ],
      "execution_count": null,
      "outputs": [
        {
          "output_type": "stream",
          "text": [
            "[8.00000003 7.99999981 8.00000068 8.0000004  8.00000118 7.99999898\n",
            " 7.99999948]\n"
          ],
          "name": "stdout"
        }
      ]
    },
    {
      "cell_type": "code",
      "metadata": {
        "id": "X3FkHGqHJbNe",
        "colab": {
          "base_uri": "https://localhost:8080/"
        },
        "outputId": "e4c951cb-f170-4db2-bd28-fea8f7ba8a2e"
      },
      "source": [
        "A = np.matrix(np.ones((5,5))) # builds an array of 3X4 with all ones\t\t\n",
        "print(A)"
      ],
      "execution_count": null,
      "outputs": [
        {
          "output_type": "stream",
          "text": [
            "[[1. 1. 1. 1. 1.]\n",
            " [1. 1. 1. 1. 1.]\n",
            " [1. 1. 1. 1. 1.]\n",
            " [1. 1. 1. 1. 1.]\n",
            " [1. 1. 1. 1. 1.]]\n"
          ],
          "name": "stdout"
        }
      ]
    },
    {
      "cell_type": "code",
      "metadata": {
        "colab": {
          "base_uri": "https://localhost:8080/"
        },
        "id": "U-uyClGLLA1H",
        "outputId": "9e0b5b48-0ac0-40f5-c723-17d0f615cda5"
      },
      "source": [
        "np.asarray(A)[3]=2 # converts the whole column to desired int\n",
        "print(A)"
      ],
      "execution_count": null,
      "outputs": [
        {
          "output_type": "stream",
          "text": [
            "[[1. 1. 1. 1. 1.]\n",
            " [1. 1. 1. 1. 1.]\n",
            " [1. 1. 1. 1. 1.]\n",
            " [2. 2. 2. 2. 2.]\n",
            " [1. 1. 1. 1. 1.]]\n"
          ],
          "name": "stdout"
        }
      ]
    },
    {
      "cell_type": "code",
      "metadata": {
        "colab": {
          "base_uri": "https://localhost:8080/"
        },
        "id": "Hhk5IB86L051",
        "outputId": "31e61e68-989e-4d16-c79e-ffeb29288cd2"
      },
      "source": [
        "a3=np.arange(4,12) # intakes all the elements in the given range\n",
        "print(a3)"
      ],
      "execution_count": null,
      "outputs": [
        {
          "output_type": "stream",
          "text": [
            "[ 4  5  6  7  8  9 10 11]\n"
          ],
          "name": "stdout"
        }
      ]
    },
    {
      "cell_type": "code",
      "metadata": {
        "colab": {
          "base_uri": "https://localhost:8080/"
        },
        "id": "sq8CgUN_NUH7",
        "outputId": "d4b8a105-bb37-4ca7-e8f5-717b79441836"
      },
      "source": [
        "a4=np.arange(4,12,3) # intakes all the elements in the given range and the last elements will in sort of AP and d= the last digit \n",
        "print(a4)"
      ],
      "execution_count": null,
      "outputs": [
        {
          "output_type": "stream",
          "text": [
            "[ 4  7 10]\n"
          ],
          "name": "stdout"
        }
      ]
    },
    {
      "cell_type": "code",
      "metadata": {
        "colab": {
          "base_uri": "https://localhost:8080/"
        },
        "id": "GTl-gQ_eNa9R",
        "outputId": "869750e3-f746-45e4-89be-8b42aec2accb"
      },
      "source": [
        "np.linspace(2.0, 8.0, num=20)\n",
        "# Linspace gives evenly spaced samples.\n",
        "# numpy.linspace(start, stop, num, endpoint)"
      ],
      "execution_count": null,
      "outputs": [
        {
          "output_type": "execute_result",
          "data": {
            "text/plain": [
              "array([2.        , 2.31578947, 2.63157895, 2.94736842, 3.26315789,\n",
              "       3.57894737, 3.89473684, 4.21052632, 4.52631579, 4.84210526,\n",
              "       5.15789474, 5.47368421, 5.78947368, 6.10526316, 6.42105263,\n",
              "       6.73684211, 7.05263158, 7.36842105, 7.68421053, 8.        ])"
            ]
          },
          "metadata": {
            "tags": []
          },
          "execution_count": 99
        }
      ]
    },
    {
      "cell_type": "code",
      "metadata": {
        "colab": {
          "base_uri": "https://localhost:8080/"
        },
        "id": "QGNh0krVOBrr",
        "outputId": "fe3b7d2d-4bb6-4dd4-a157-4b1e3268a0d3"
      },
      "source": [
        "np.linspace(2.0, 8.0, num=20, endpoint=False)\n",
        "#Endpoint: If True (default), stop is the last value. If False, stop value is not included."
      ],
      "execution_count": null,
      "outputs": [
        {
          "output_type": "execute_result",
          "data": {
            "text/plain": [
              "array([2. , 2.3, 2.6, 2.9, 3.2, 3.5, 3.8, 4.1, 4.4, 4.7, 5. , 5.3, 5.6,\n",
              "       5.9, 6.2, 6.5, 6.8, 7.1, 7.4, 7.7])"
            ]
          },
          "metadata": {
            "tags": []
          },
          "execution_count": 100
        }
      ]
    },
    {
      "cell_type": "code",
      "metadata": {
        "colab": {
          "base_uri": "https://localhost:8080/"
        },
        "id": "-4GcmPAAObyS",
        "outputId": "91f35872-4a02-48ef-c5cd-5b8c60c2d104"
      },
      "source": [
        "np.logspace(2.0,4.0,num=4)\n",
        "#LogSpace returns even spaced numbers on a log scale. Logspace has the same parameters as np.linspace.\n",
        "#numpy.logspace(start, stop, num, endpoint)"
      ],
      "execution_count": null,
      "outputs": [
        {
          "output_type": "execute_result",
          "data": {
            "text/plain": [
              "array([  100.        ,   464.15888336,  2154.43469003, 10000.        ])"
            ]
          },
          "metadata": {
            "tags": []
          },
          "execution_count": 103
        }
      ]
    },
    {
      "cell_type": "code",
      "metadata": {
        "colab": {
          "base_uri": "https://localhost:8080/"
        },
        "id": "fjwKrFdEO30W",
        "outputId": "3080c170-61c4-4524-f651-c2cefaf93dfd"
      },
      "source": [
        "x = np.array([2,3,3], dtype=np.complex128)\n",
        "x.itemsize"
      ],
      "execution_count": null,
      "outputs": [
        {
          "output_type": "execute_result",
          "data": {
            "text/plain": [
              "16"
            ]
          },
          "metadata": {
            "tags": []
          },
          "execution_count": 106
        }
      ]
    },
    {
      "cell_type": "code",
      "metadata": {
        "colab": {
          "base_uri": "https://localhost:8080/"
        },
        "id": "JNoXd3AjQtWQ",
        "outputId": "c88ca7d8-b4e4-4c5e-e923-620f480b3a55"
      },
      "source": [
        "e  = np.array([(1,2,3,4), (5,6,7,8)])\n",
        "print(\"First\",e[0])# slices first column\n",
        "print(\"Second\",e[1])# slices Second column\n",
        "print(\"Second --1\",e[:,1])\n",
        "print(\"Second --1\",e[1,:3])"
      ],
      "execution_count": null,
      "outputs": [
        {
          "output_type": "stream",
          "text": [
            "First [1 2 3 4]\n",
            "Second [5 6 7 8]\n",
            "Second --1 [2 6]\n",
            "Second --1 [5]\n"
          ],
          "name": "stdout"
        }
      ]
    },
    {
      "cell_type": "code",
      "metadata": {
        "id": "SereRuH1R7i6",
        "colab": {
          "base_uri": "https://localhost:8080/"
        },
        "outputId": "c825bea5-be11-4ea5-a3c6-b1d5b48e7937"
      },
      "source": [
        "v=np.random.normal(8,0.0008,6)\n",
        "print(np.min(v))\n",
        "print(np.max(v))\n",
        "print(np.mean(v))\n",
        "print(np.median(v))\n",
        "print(np.std(v))"
      ],
      "execution_count": 4,
      "outputs": [
        {
          "output_type": "stream",
          "text": [
            "7.999525154022651\n",
            "8.000579287971743\n",
            "8.000082044962447\n",
            "8.000150265782498\n",
            "0.0003763150097486675\n"
          ],
          "name": "stdout"
        }
      ]
    },
    {
      "cell_type": "code",
      "metadata": {
        "colab": {
          "base_uri": "https://localhost:8080/"
        },
        "id": "-OUInzBorPBn",
        "outputId": "884cbcc6-2f2a-4771-e979-2139776f9a8b"
      },
      "source": [
        "h=[[1,2],[4,5]]\n",
        "i=[[2,3],[6,7]]\n",
        "np.matmul(h,i)"
      ],
      "execution_count": 9,
      "outputs": [
        {
          "output_type": "execute_result",
          "data": {
            "text/plain": [
              "array([[14, 17],\n",
              "       [38, 47]])"
            ]
          },
          "metadata": {
            "tags": []
          },
          "execution_count": 9
        }
      ]
    },
    {
      "cell_type": "code",
      "metadata": {
        "colab": {
          "base_uri": "https://localhost:8080/",
          "height": 354
        },
        "id": "YwOmYOQesFCT",
        "outputId": "ba447295-6359-4a69-8538-5d382e70fa81"
      },
      "source": [
        "a=np.array([[1,1,1],[2,2,2],[3,3,3]])\n",
        "print(np.linalg.inv(a))"
      ],
      "execution_count": 11,
      "outputs": [
        {
          "output_type": "error",
          "ename": "LinAlgError",
          "evalue": "ignored",
          "traceback": [
            "\u001b[0;31m---------------------------------------------------------------------------\u001b[0m",
            "\u001b[0;31mLinAlgError\u001b[0m                               Traceback (most recent call last)",
            "\u001b[0;32m<ipython-input-11-7148640307ef>\u001b[0m in \u001b[0;36m<module>\u001b[0;34m()\u001b[0m\n\u001b[1;32m      1\u001b[0m \u001b[0ma\u001b[0m\u001b[0;34m=\u001b[0m\u001b[0mnp\u001b[0m\u001b[0;34m.\u001b[0m\u001b[0marray\u001b[0m\u001b[0;34m(\u001b[0m\u001b[0;34m[\u001b[0m\u001b[0;34m[\u001b[0m\u001b[0;36m1\u001b[0m\u001b[0;34m,\u001b[0m\u001b[0;36m1\u001b[0m\u001b[0;34m,\u001b[0m\u001b[0;36m1\u001b[0m\u001b[0;34m]\u001b[0m\u001b[0;34m,\u001b[0m\u001b[0;34m[\u001b[0m\u001b[0;36m2\u001b[0m\u001b[0;34m,\u001b[0m\u001b[0;36m2\u001b[0m\u001b[0;34m,\u001b[0m\u001b[0;36m2\u001b[0m\u001b[0;34m]\u001b[0m\u001b[0;34m,\u001b[0m\u001b[0;34m[\u001b[0m\u001b[0;36m3\u001b[0m\u001b[0;34m,\u001b[0m\u001b[0;36m3\u001b[0m\u001b[0;34m,\u001b[0m\u001b[0;36m3\u001b[0m\u001b[0;34m]\u001b[0m\u001b[0;34m]\u001b[0m\u001b[0;34m)\u001b[0m\u001b[0;34m\u001b[0m\u001b[0;34m\u001b[0m\u001b[0m\n\u001b[0;32m----> 2\u001b[0;31m \u001b[0mprint\u001b[0m\u001b[0;34m(\u001b[0m\u001b[0mnp\u001b[0m\u001b[0;34m.\u001b[0m\u001b[0mlinalg\u001b[0m\u001b[0;34m.\u001b[0m\u001b[0minv\u001b[0m\u001b[0;34m(\u001b[0m\u001b[0ma\u001b[0m\u001b[0;34m)\u001b[0m\u001b[0;34m)\u001b[0m\u001b[0;34m\u001b[0m\u001b[0;34m\u001b[0m\u001b[0m\n\u001b[0m",
            "\u001b[0;32m<__array_function__ internals>\u001b[0m in \u001b[0;36minv\u001b[0;34m(*args, **kwargs)\u001b[0m\n",
            "\u001b[0;32m/usr/local/lib/python3.7/dist-packages/numpy/linalg/linalg.py\u001b[0m in \u001b[0;36minv\u001b[0;34m(a)\u001b[0m\n\u001b[1;32m    544\u001b[0m     \u001b[0msignature\u001b[0m \u001b[0;34m=\u001b[0m \u001b[0;34m'D->D'\u001b[0m \u001b[0;32mif\u001b[0m \u001b[0misComplexType\u001b[0m\u001b[0;34m(\u001b[0m\u001b[0mt\u001b[0m\u001b[0;34m)\u001b[0m \u001b[0;32melse\u001b[0m \u001b[0;34m'd->d'\u001b[0m\u001b[0;34m\u001b[0m\u001b[0;34m\u001b[0m\u001b[0m\n\u001b[1;32m    545\u001b[0m     \u001b[0mextobj\u001b[0m \u001b[0;34m=\u001b[0m \u001b[0mget_linalg_error_extobj\u001b[0m\u001b[0;34m(\u001b[0m\u001b[0m_raise_linalgerror_singular\u001b[0m\u001b[0;34m)\u001b[0m\u001b[0;34m\u001b[0m\u001b[0;34m\u001b[0m\u001b[0m\n\u001b[0;32m--> 546\u001b[0;31m     \u001b[0mainv\u001b[0m \u001b[0;34m=\u001b[0m \u001b[0m_umath_linalg\u001b[0m\u001b[0;34m.\u001b[0m\u001b[0minv\u001b[0m\u001b[0;34m(\u001b[0m\u001b[0ma\u001b[0m\u001b[0;34m,\u001b[0m \u001b[0msignature\u001b[0m\u001b[0;34m=\u001b[0m\u001b[0msignature\u001b[0m\u001b[0;34m,\u001b[0m \u001b[0mextobj\u001b[0m\u001b[0;34m=\u001b[0m\u001b[0mextobj\u001b[0m\u001b[0;34m)\u001b[0m\u001b[0;34m\u001b[0m\u001b[0;34m\u001b[0m\u001b[0m\n\u001b[0m\u001b[1;32m    547\u001b[0m     \u001b[0;32mreturn\u001b[0m \u001b[0mwrap\u001b[0m\u001b[0;34m(\u001b[0m\u001b[0mainv\u001b[0m\u001b[0;34m.\u001b[0m\u001b[0mastype\u001b[0m\u001b[0;34m(\u001b[0m\u001b[0mresult_t\u001b[0m\u001b[0;34m,\u001b[0m \u001b[0mcopy\u001b[0m\u001b[0;34m=\u001b[0m\u001b[0;32mFalse\u001b[0m\u001b[0;34m)\u001b[0m\u001b[0;34m)\u001b[0m\u001b[0;34m\u001b[0m\u001b[0;34m\u001b[0m\u001b[0m\n\u001b[1;32m    548\u001b[0m \u001b[0;34m\u001b[0m\u001b[0m\n",
            "\u001b[0;32m/usr/local/lib/python3.7/dist-packages/numpy/linalg/linalg.py\u001b[0m in \u001b[0;36m_raise_linalgerror_singular\u001b[0;34m(err, flag)\u001b[0m\n\u001b[1;32m     86\u001b[0m \u001b[0;34m\u001b[0m\u001b[0m\n\u001b[1;32m     87\u001b[0m \u001b[0;32mdef\u001b[0m \u001b[0m_raise_linalgerror_singular\u001b[0m\u001b[0;34m(\u001b[0m\u001b[0merr\u001b[0m\u001b[0;34m,\u001b[0m \u001b[0mflag\u001b[0m\u001b[0;34m)\u001b[0m\u001b[0;34m:\u001b[0m\u001b[0;34m\u001b[0m\u001b[0;34m\u001b[0m\u001b[0m\n\u001b[0;32m---> 88\u001b[0;31m     \u001b[0;32mraise\u001b[0m \u001b[0mLinAlgError\u001b[0m\u001b[0;34m(\u001b[0m\u001b[0;34m\"Singular matrix\"\u001b[0m\u001b[0;34m)\u001b[0m\u001b[0;34m\u001b[0m\u001b[0;34m\u001b[0m\u001b[0m\n\u001b[0m\u001b[1;32m     89\u001b[0m \u001b[0;34m\u001b[0m\u001b[0m\n\u001b[1;32m     90\u001b[0m \u001b[0;32mdef\u001b[0m \u001b[0m_raise_linalgerror_nonposdef\u001b[0m\u001b[0;34m(\u001b[0m\u001b[0merr\u001b[0m\u001b[0;34m,\u001b[0m \u001b[0mflag\u001b[0m\u001b[0;34m)\u001b[0m\u001b[0;34m:\u001b[0m\u001b[0;34m\u001b[0m\u001b[0;34m\u001b[0m\u001b[0m\n",
            "\u001b[0;31mLinAlgError\u001b[0m: Singular matrix"
          ]
        }
      ]
    },
    {
      "cell_type": "code",
      "metadata": {
        "colab": {
          "base_uri": "https://localhost:8080/"
        },
        "id": "SaLV6cTzsgay",
        "outputId": "abc0abce-89c3-4582-cbf5-198b4eaf22da"
      },
      "source": [
        "det=np.linalg.det(a) # det calculator\n",
        "rank=np.linalg.matrix_rank(a) # rank calculator\n",
        "eigenvalues, eigenvectors = np.linalg.eig(a) # eigen values and matrix\n",
        "diag=a.diagonal()\n",
        "trans=a.transpose() # transpose\n",
        "trac=a.trace()\n",
        "print(eigenvalues, eigenvectors)\n",
        "print(int(det))\n",
        "print(int(rank))\n",
        "print(diag)\n",
        "print(trans)\n",
        "print(trac)"
      ],
      "execution_count": 19,
      "outputs": [
        {
          "output_type": "stream",
          "text": [
            "[ 6.00000000e+00 -2.28386485e-16  0.00000000e+00] [[-0.26726124 -0.04554875 -0.31352117]\n",
            " [-0.53452248  0.72878003 -0.49613938]\n",
            " [-0.80178373 -0.68323128  0.80966054]]\n",
            "0\n",
            "1\n",
            "[1 2 3]\n",
            "[[1 2 3]\n",
            " [1 2 3]\n",
            " [1 2 3]]\n",
            "6\n"
          ],
          "name": "stdout"
        }
      ]
    },
    {
      "cell_type": "code",
      "metadata": {
        "id": "h6ZcqLWvsyXe"
      },
      "source": [
        ""
      ],
      "execution_count": null,
      "outputs": []
    }
  ]
}